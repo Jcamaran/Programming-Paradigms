{
  "nbformat": 4,
  "nbformat_minor": 0,
  "metadata": {
    "colab": {
      "provenance": []
    },
    "kernelspec": {
      "name": "python3",
      "display_name": "Python 3"
    },
    "language_info": {
      "name": "python"
    }
  },
  "cells": [
    {
      "cell_type": "code",
      "execution_count": 4,
      "metadata": {
        "id": "aU68kqqg9Vi_"
      },
      "outputs": [],
      "source": [
        "from __future__ import annotations\n",
        "from abc import ABC, abstractmethod"
      ]
    },
    {
      "cell_type": "code",
      "source": [
        "class AbstractFactory(ABC):\n",
        "  \"\"\"\n",
        "  The abstarct factory interface decalres a set of methods and returns different abstarct product related to chairs.\n",
        "  These products might include the chair itself, perhaps some accessories but all of those would be related to a design-\n",
        "  theme  or some kind of ergonomic style.\n",
        "  \"\"\"\n",
        "  @abstractmethod\n",
        "  def createChair(self)-> AbstractChair:\n",
        "    pass\n",
        "\n",
        "  @abstractmethod\n",
        "  def create_accessory(self)-> AbstractAccessory:\n",
        "    pass\n",
        "\n",
        "\n",
        "class ModernChairFactory(AbstractFactory):\n",
        "  \"\"\"\n",
        "  A concrete factory producing a modern type of chairs and their accessories.\n",
        "  \"\"\"\n",
        "  def createChair(self) -> AbstractChair:\n",
        "    return ModernChair()\n",
        "\n",
        "  def create_accessory(self) -> AbstractAccessory:\n",
        "    return ModernCushion()\n",
        "\n",
        "class VictorianChairFactory(AbstractFactory):\n",
        "  \"\"\"\n",
        "  A concrete factory producing a Victorian type of chairs and their accessories.\n",
        "  \"\"\"\n",
        "  def createChair(self) -> AbstractChair:\n",
        "    return VictorianChair()\n",
        "\n",
        "  def create_accessory(self) -> AbstractAccessory:\n",
        "    return VictorianCushion()\n",
        "\n",
        "\n",
        "\n",
        "class AbstractChair(ABC):\n",
        "  \"\"\"\n",
        "  Base interface for a chair porduct. and by virture of this all chair variants\n",
        "  will implemnt this interface.\n",
        "  \"\"\"\n",
        "  @abstractmethod\n",
        "  def sit_on(self)-> str:\n",
        "    pass\n",
        "\n",
        "class AbstractAccessory(ABC):\n",
        "  \"\"\"\n",
        "  Basic interfance for a chair acessor, like cushions.\n",
        "  \"\"\"\n",
        "  @abstractmethod\n",
        "  def compliment(self)-> None:\n",
        "    pass\n",
        "\n",
        "class ModernChair(AbstractChair):\n",
        "  def sit_on(self)-> str:\n",
        "    return \"Sitting on a Modern Chair\"\n",
        "\n",
        "class ModernCushion(AbstractAccessory):\n",
        "  def compliment(self)-> str:\n",
        "    return \" Complimenting with a modern cushion\"\n",
        "\n",
        "class VictorianChair(AbstractChair):\n",
        "  def sit_on(self)-> str:\n",
        "    return \"Sitting on a Victorian Chair\"\n",
        "\n",
        "class VictorianCushion(AbstractAccessory):\n",
        "  def compliment(self)-> str:\n",
        "    return \" Complimenting with a Victorian cushion\"\n",
        "\n",
        "def client_code(factory: AbstractFactory)-> None:\n",
        "  \"\"\"\n",
        "  This cleints code worsk with factories and products only through their abstract types:\n",
        "   AbstractFactory, Abstarctchair, and AbstractAccessory. This allows any factory or product\n",
        "   subclass to be passed to the client code withouhf breaking it\n",
        "  \"\"\"\n",
        "  chair = factory.createChair()\n",
        "  accessory = factory.create_accessory()\n",
        "\n",
        "  print(f\"{chair.sit_on()}\")\n",
        "  print(f\"{accessory.compliment()}\", end = \"\")\n",
        "\n",
        "if __name__ == \"__main__\":\n",
        "  print(\"Client: testing client code with teh ModernChairFactory: \")\n",
        "  client_code(ModernChairFactory())\n",
        "  print(\"\\n\")\n",
        "  print(\"Client: testing client code with teh VictorianChairFactory: \")\n",
        "  client_code(VictorianChairFactory())\n"
      ],
      "metadata": {
        "colab": {
          "base_uri": "https://localhost:8080/"
        },
        "id": "qVlWZtK995Od",
        "outputId": "2e969a8c-ec03-4fcf-a16a-1e81915fb5d9"
      },
      "execution_count": 16,
      "outputs": [
        {
          "output_type": "stream",
          "name": "stdout",
          "text": [
            "Client: testing client code with teh ModernChairFactory: \n",
            "Sitting on a Modern Chair\n",
            " Complimenting with a modern cushion\n",
            "\n",
            "Client: testing client code with teh VictorianChairFactory: \n",
            "Sitting on a Victorian Chair\n",
            " Complimenting with a Victorian cushion"
          ]
        }
      ]
    },
    {
      "cell_type": "code",
      "source": [],
      "metadata": {
        "id": "QaUrxKtN9_Rl"
      },
      "execution_count": null,
      "outputs": []
    }
  ]
}