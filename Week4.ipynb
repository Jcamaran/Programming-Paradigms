{
  "nbformat": 4,
  "nbformat_minor": 0,
  "metadata": {
    "colab": {
      "provenance": []
    },
    "kernelspec": {
      "name": "python3",
      "display_name": "Python 3"
    },
    "language_info": {
      "name": "python"
    }
  },
  "cells": [
    {
      "cell_type": "code",
      "execution_count": 9,
      "metadata": {
        "colab": {
          "base_uri": "https://localhost:8080/"
        },
        "id": "TJ4f8Qu8n4cm",
        "outputId": "8b4b5177-2da6-4d80-8923-261d9b1b4e02"
      },
      "outputs": [
        {
          "output_type": "stream",
          "name": "stdout",
          "text": [
            "['chuck', 'python']\n",
            "chuck\n",
            "chuck\n",
            "chuck\n"
          ]
        }
      ],
      "source": [
        "stuff = list()\n",
        "stuff.append(\"python\")\n",
        "stuff.append(\"chuck\")\n",
        "stuff.sort()\n",
        "print(stuff)\n",
        "print(stuff[0])\n"
      ]
    },
    {
      "cell_type": "code",
      "source": [
        "print(stuff.__getitem__(0))\n",
        "print(list.__getitem__(stuff,0))"
      ],
      "metadata": {
        "colab": {
          "base_uri": "https://localhost:8080/"
        },
        "id": "nZl8qUj85Ize",
        "outputId": "43f1619f-04ea-43dc-dc01-817d36a62a9d"
      },
      "execution_count": 10,
      "outputs": [
        {
          "output_type": "stream",
          "name": "stdout",
          "text": [
            "chuck\n",
            "chuck\n"
          ]
        }
      ]
    },
    {
      "cell_type": "markdown",
      "source": [],
      "metadata": {
        "id": "qLEHvETSn5Me"
      }
    },
    {
      "cell_type": "code",
      "source": [
        "stuff = list()\n",
        "dir(stuff)"
      ],
      "metadata": {
        "colab": {
          "base_uri": "https://localhost:8080/"
        },
        "id": "4i3vFJST5NHP",
        "outputId": "b1f0c1ce-d84a-4421-a6a1-d50ba38964e3"
      },
      "execution_count": 11,
      "outputs": [
        {
          "output_type": "execute_result",
          "data": {
            "text/plain": [
              "['__add__',\n",
              " '__class__',\n",
              " '__class_getitem__',\n",
              " '__contains__',\n",
              " '__delattr__',\n",
              " '__delitem__',\n",
              " '__dir__',\n",
              " '__doc__',\n",
              " '__eq__',\n",
              " '__format__',\n",
              " '__ge__',\n",
              " '__getattribute__',\n",
              " '__getitem__',\n",
              " '__gt__',\n",
              " '__hash__',\n",
              " '__iadd__',\n",
              " '__imul__',\n",
              " '__init__',\n",
              " '__init_subclass__',\n",
              " '__iter__',\n",
              " '__le__',\n",
              " '__len__',\n",
              " '__lt__',\n",
              " '__mul__',\n",
              " '__ne__',\n",
              " '__new__',\n",
              " '__reduce__',\n",
              " '__reduce_ex__',\n",
              " '__repr__',\n",
              " '__reversed__',\n",
              " '__rmul__',\n",
              " '__setattr__',\n",
              " '__setitem__',\n",
              " '__sizeof__',\n",
              " '__str__',\n",
              " '__subclasshook__',\n",
              " 'append',\n",
              " 'clear',\n",
              " 'copy',\n",
              " 'count',\n",
              " 'extend',\n",
              " 'index',\n",
              " 'insert',\n",
              " 'pop',\n",
              " 'remove',\n",
              " 'reverse',\n",
              " 'sort']"
            ]
          },
          "metadata": {},
          "execution_count": 11
        }
      ]
    },
    {
      "cell_type": "code",
      "source": [
        "class PartyAnimal:\n",
        "  def __init__(self):#class name\n",
        "    self.x = 0 # attribut, default (instance variable)\n",
        "    print(\"Created an object of class Party Animal.\")\n",
        "\n",
        "  def party(self): # method of class PartyAnimal\n",
        "    self.x = self.x + 1 #making use of an attribute\n",
        "    print(f\"So far: {self.x}\")\n",
        "\n",
        "\n",
        "\n",
        "an = PartyAnimal()# creating an object of class partyanimal #\n",
        "an.party() # call the party methid from our class of object#\n",
        "\n",
        "an.party()\n",
        "an.party()\n",
        "\n"
      ],
      "metadata": {
        "colab": {
          "base_uri": "https://localhost:8080/"
        },
        "id": "G8z-D5RA5j5T",
        "outputId": "51cc50d2-c62b-41ba-bf11-2aa106594f03"
      },
      "execution_count": 14,
      "outputs": [
        {
          "output_type": "stream",
          "name": "stdout",
          "text": [
            "Created an object of class Party Animal.\n",
            "So far: 1\n",
            "So far: 2\n",
            "So far: 3\n"
          ]
        }
      ]
    },
    {
      "cell_type": "code",
      "source": [
        "another = PartyAnimal\n",
        "print(\"Type\", type(another))\n",
        "print(\"Dir\", dir(another))\n",
        "print(\"Attribute type: \", type(another))\n",
        "print(\"Method Type: \", type(another.party))"
      ],
      "metadata": {
        "colab": {
          "base_uri": "https://localhost:8080/"
        },
        "id": "l8MN88yR68bb",
        "outputId": "cb04cbc2-05fa-47bb-a996-53469bc77ec0"
      },
      "execution_count": 20,
      "outputs": [
        {
          "output_type": "stream",
          "name": "stdout",
          "text": [
            "Type <class 'type'>\n",
            "Dir ['__class__', '__delattr__', '__dict__', '__dir__', '__doc__', '__eq__', '__format__', '__ge__', '__getattribute__', '__gt__', '__hash__', '__init__', '__init_subclass__', '__le__', '__lt__', '__module__', '__ne__', '__new__', '__reduce__', '__reduce_ex__', '__repr__', '__setattr__', '__sizeof__', '__str__', '__subclasshook__', '__weakref__', 'party']\n",
            "Attribute type:  <class 'type'>\n",
            "Method Type:  <class 'function'>\n"
          ]
        }
      ]
    },
    {
      "cell_type": "code",
      "source": [
        "class StudySession:\n",
        "  def __init__(self):\n",
        "    self.count = 0\n",
        "    print(\"Study session started, the object is being constructed.\")\n",
        "\n",
        "  def studyForOneHour(self):\n",
        "    self.count += 1\n",
        "    print(\"Hours studied: \", self.count)\n",
        "\n",
        "  def studyForGivenNumberOfHours(self, numberOfHours):\n",
        "    self.count += numberOfHours\n",
        "    print(f\"Hours studied: {self.count}\")\n",
        "\n",
        "  def __del__(self):\n",
        "    print(\"The study session has ended after \", self.count,\"hours\")\n",
        "\n",
        ""
      ],
      "metadata": {
        "id": "5YO4ORuA77Aj"
      },
      "execution_count": 27,
      "outputs": []
    },
    {
      "cell_type": "code",
      "source": [
        "session = StudySession()\n",
        "session.studyForOneHour()\n",
        "session.studyForOneHour()\n",
        "\n",
        "session.studyForGivenNumberOfHours(3)\n",
        "\n",
        "#prior to ovverriding the contructor the object will call its deconstructor\n",
        "session = \"done studying\" #ovverides the 'object' we created in the variable session\n",
        "print('session contains', session) #output done studying\n",
        "\n"
      ],
      "metadata": {
        "colab": {
          "base_uri": "https://localhost:8080/"
        },
        "id": "cE3aZXiW8yr4",
        "outputId": "50b67e0d-d10d-4722-8e0c-bf5e96c208b8"
      },
      "execution_count": 34,
      "outputs": [
        {
          "output_type": "stream",
          "name": "stdout",
          "text": [
            "Study session started, the object is being constructed.\n",
            "Hours studied:  1\n",
            "Hours studied:  2\n",
            "Hours studied: 5\n",
            "The study session has ended after  5 hours\n",
            "sessoin contains done studying\n"
          ]
        }
      ]
    },
    {
      "cell_type": "code",
      "source": [
        "class bookClubMember:\n",
        "  def __init__(self, member_name):\n",
        "    self.read_count = 0\n",
        "    self.name = member_name\n",
        "\n",
        "  def read(self):\n",
        "    self.read_count += 1\n",
        "    print(self.name, \"has read\", self.read_count,\" books.\")\n",
        "\n",
        "alice = bookClubMember(\"Alice\")\n",
        "alice.read()\n",
        "\n",
        "bob = bookClubMember(\"Bob\")\n",
        "bob.read()\n",
        "alice.read()\n",
        "#alice 2, bib 1\n",
        "\n"
      ],
      "metadata": {
        "colab": {
          "base_uri": "https://localhost:8080/"
        },
        "id": "QEeVZAIp-9jE",
        "outputId": "8550b17c-f51d-4c88-aeb2-1e29c7d75e07"
      },
      "execution_count": 36,
      "outputs": [
        {
          "output_type": "stream",
          "name": "stdout",
          "text": [
            "Alice has read 1  books.\n",
            "Bob has read 1  books.\n",
            "Alice has read 2  books.\n"
          ]
        }
      ]
    },
    {
      "cell_type": "code",
      "source": [
        "class BookReviewer(bookClubMember):\n",
        "  def __init__(self, member_name):\n",
        "    super().__init__(member_name)\n",
        "    self.review_count = 0\n",
        "\n",
        "  def review(self):\n",
        "    self.read() #assume that reviewing the book requires reading\n",
        "    self.review_count += 1\n",
        "    print(self.name, 'has reviewed', self.review_count, \"books\")\n",
        "\n",
        "sally = bookClubMember(\"Sally\")\n",
        "sally.read()\n",
        "\n",
        "jim = BookReviewer(\"Jim\")\n",
        "jim.read()\n",
        "jim.review()\n",
        "\n",
        "\n",
        "print(dir(jim))\n",
        "\n",
        "\n"
      ],
      "metadata": {
        "colab": {
          "base_uri": "https://localhost:8080/"
        },
        "id": "md4Jp0oL_-UH",
        "outputId": "70d23822-c5f4-4f7f-f45e-e4771230d4e7"
      },
      "execution_count": 38,
      "outputs": [
        {
          "output_type": "stream",
          "name": "stdout",
          "text": [
            "Sally has read 1  books.\n",
            "Jim has read 1  books.\n",
            "Jim has read 2  books.\n",
            "Jim has reviewed 1 books\n",
            "['__class__', '__delattr__', '__dict__', '__dir__', '__doc__', '__eq__', '__format__', '__ge__', '__getattribute__', '__gt__', '__hash__', '__init__', '__init_subclass__', '__le__', '__lt__', '__module__', '__ne__', '__new__', '__reduce__', '__reduce_ex__', '__repr__', '__setattr__', '__sizeof__', '__str__', '__subclasshook__', '__weakref__', 'name', 'read', 'read_count', 'review', 'review_count']\n"
          ]
        }
      ]
    }
  ]
}